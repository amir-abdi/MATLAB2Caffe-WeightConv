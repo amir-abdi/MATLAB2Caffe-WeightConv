{
 "cells": [
  {
   "cell_type": "code",
   "execution_count": 71,
   "metadata": {
    "collapsed": true
   },
   "outputs": [],
   "source": [
    "import numpy as np\n",
    "import scipy.io as sio\n"
   ]
  },
  {
   "cell_type": "code",
   "execution_count": 72,
   "metadata": {
    "collapsed": true
   },
   "outputs": [],
   "source": [
    "src_dir = 'Sample for Caffe/'"
   ]
  },
  {
   "cell_type": "code",
   "execution_count": 73,
   "metadata": {
    "collapsed": false
   },
   "outputs": [],
   "source": [
    "b = sio.loadmat(src_dir + 'b.mat');\n",
    "W = sio.loadmat(src_dir + 'W.mat');"
   ]
  },
  {
   "cell_type": "code",
   "execution_count": 74,
   "metadata": {
    "collapsed": false
   },
   "outputs": [],
   "source": [
    "# caffe\n",
    "import sys\n",
    "caffe_root = '/home/amir/caffe/'\n",
    "sys.path.append(caffe_root + 'python')\n",
    "import caffe"
   ]
  },
  {
   "cell_type": "code",
   "execution_count": 75,
   "metadata": {
    "collapsed": true
   },
   "outputs": [],
   "source": [
    "net = caffe.Net('ShekNet.prototxt', caffe.TEST)"
   ]
  },
  {
   "cell_type": "code",
   "execution_count": 76,
   "metadata": {
    "collapsed": false
   },
   "outputs": [
    {
     "data": {
      "text/plain": [
       "[('fc1', (100, 50), (100,)), ('fc2', (50, 100), (50,)), ('fc3', (6, 50), (6,))]"
      ]
     },
     "execution_count": 76,
     "metadata": {},
     "output_type": "execute_result"
    }
   ],
   "source": [
    "[(k, v[0].data.shape, v[1].data.shape) for k, v in net.params.items()]"
   ]
  },
  {
   "cell_type": "code",
   "execution_count": 77,
   "metadata": {
    "collapsed": false
   },
   "outputs": [
    {
     "name": "stdout",
     "output_type": "stream",
     "text": [
      "(100, 50)\n",
      "(100,)\n",
      "(50, 100)\n",
      "(1, 100)\n"
     ]
    }
   ],
   "source": [
    "#fc1\n",
    "print net.params['fc1'][0].data.shape\n",
    "print net.params['fc1'][1].data.shape\n",
    "print W['W'][0][0].shape\n",
    "print b['b'][0][0].shape\n",
    "\n",
    "\n",
    "net.params['fc1'][0].data[...] = np.transpose(W['W'][0][0])\n",
    "net.params['fc1'][1].data[...] = b['b'][0][0]"
   ]
  },
  {
   "cell_type": "code",
   "execution_count": 78,
   "metadata": {
    "collapsed": false
   },
   "outputs": [
    {
     "name": "stdout",
     "output_type": "stream",
     "text": [
      "(50, 100)\n",
      "(50,)\n",
      "(100, 50)\n",
      "(1, 50)\n"
     ]
    }
   ],
   "source": [
    "#fc2\n",
    "print net.params['fc2'][0].data.shape\n",
    "print net.params['fc2'][1].data.shape\n",
    "print W['W'][1][0].shape\n",
    "print b['b'][1][0].shape\n",
    "\n",
    "\n",
    "net.params['fc2'][0].data[...] = np.transpose(W['W'][1][0])\n",
    "net.params['fc2'][1].data[...] = b['b'][1][0]"
   ]
  },
  {
   "cell_type": "code",
   "execution_count": 79,
   "metadata": {
    "collapsed": false
   },
   "outputs": [
    {
     "name": "stdout",
     "output_type": "stream",
     "text": [
      "(6, 50)\n",
      "(6,)\n",
      "(50, 6)\n",
      "(1, 6)\n"
     ]
    }
   ],
   "source": [
    "#fc3\n",
    "print net.params['fc3'][0].data.shape\n",
    "print net.params['fc3'][1].data.shape\n",
    "print W['W'][2][0].shape\n",
    "print b['b'][2][0].shape\n",
    "\n",
    "\n",
    "net.params['fc3'][0].data[...] = np.transpose(W['W'][2][0])\n",
    "net.params['fc3'][1].data[...] = b['b'][2][0]"
   ]
  },
  {
   "cell_type": "code",
   "execution_count": 85,
   "metadata": {
    "collapsed": false
   },
   "outputs": [],
   "source": [
    "#test network\n",
    "X = sio.loadmat(src_dir + 'SampleInput.mat');\n",
    "net.blobs['data'].data[...] = X['X'][0]\n",
    "output = net.forward()\n",
    "\n",
    "np.savetxt('outputs.csv', output['fc3'], delimiter=',')\n"
   ]
  },
  {
   "cell_type": "code",
   "execution_count": 84,
   "metadata": {
    "collapsed": true
   },
   "outputs": [],
   "source": [
    "net.save(\"ShekNet.caffemodel\")"
   ]
  }
 ],
 "metadata": {
  "kernelspec": {
   "display_name": "Python 2",
   "language": "python",
   "name": "python2"
  }
 },
 "nbformat": 4,
 "nbformat_minor": 0
}
